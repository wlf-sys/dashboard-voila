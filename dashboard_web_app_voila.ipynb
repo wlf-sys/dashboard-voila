{
 "cells": [
  {
   "cell_type": "markdown",
   "id": "a7b62646-f0b8-44e5-8987-63998647b4ac",
   "metadata": {},
   "source": [
    "# <img src=\"https://st4.depositphotos.com/6489488/21529/v/450/depositphotos_215295520-stock-illustration-graph-icon-vector-white-background.jpg\" alt=\"Texte de remplacement de l'image\" width=\"300\" height=\"200\"> Dashboard du suivi des ventes mensuelles"
   ]
  },
  {
   "cell_type": "markdown",
   "id": "2742be55-9d84-4da4-a9f4-bb5c74071587",
   "metadata": {},
   "source": [
    "## <div align=\"center\" style=\"color: #007BFF;\">**Version 1**</div>"
   ]
  },
  {
   "cell_type": "code",
   "execution_count": 5,
   "id": "b2fb2688-715e-4fe8-b167-c0e13a1d3ec1",
   "metadata": {},
   "outputs": [
    {
     "data": {
      "application/vnd.jupyter.widget-view+json": {
       "model_id": "6da674180f904305b97f5b7fe0a9e48b",
       "version_major": 2,
       "version_minor": 0
      },
      "text/plain": [
       "interactive(children=(Dropdown(description='Catégorie :', options=('Toutes', 'Electroniques', 'Vêtements', 'Al…"
      ]
     },
     "metadata": {},
     "output_type": "display_data"
    }
   ],
   "source": [
    "import pandas as pd\n",
    "import numpy as np\n",
    "import plotly.express as px\n",
    "import ipywidgets as widgets\n",
    "from IPython.display import display\n",
    "from ipywidgets import interact\n",
    "\n",
    "# Générer des données fictives\n",
    "np.random.seed(42)\n",
    "categories = ['Electroniques', 'Vêtements', 'Alimentation', 'Mobilier']\n",
    "months = ['Janvier', 'Février', 'Mars', 'Avril', 'Mai', 'Juin', 'Juillet', 'Août', 'Septembre', 'Octobre', 'Novembre', 'Décembre']\n",
    "data = {\n",
    "    'Mois': [month for month in months for _ in range(len(categories))],\n",
    "    'Catégorie': [cat for _ in range(len(months)) for cat in categories],\n",
    "    'Ventes': np.random.randint(100, 1000, size=len(categories) * len(months))\n",
    "}\n",
    "df = pd.DataFrame(data)\n",
    "\n",
    "def create_bar_chart(selected_category, selected_months, sales_range_slider):\n",
    "    min_sales, max_sales = sales_range_slider\n",
    "    # Filter the DataFrame df based on user selections\n",
    "    filtered_df = df\n",
    "\n",
    "    if selected_category != 'Toutes':\n",
    "        filtered_df = filtered_df[filtered_df['Catégorie'] == selected_category]\n",
    "\n",
    "    if selected_months:\n",
    "        filtered_df = filtered_df[filtered_df['Mois'].isin(selected_months)]\n",
    "\n",
    "    filtered_df = filtered_df[(filtered_df['Ventes'] >= min_sales) & (filtered_df['Ventes'] <= max_sales)]\n",
    "\n",
    "    # Create a bar chart using Plotly Express\n",
    "    fig = px.bar(\n",
    "        filtered_df,\n",
    "        x='Mois',\n",
    "        y='Ventes',\n",
    "        color='Catégorie',\n",
    "        title='Ventes Mensuelles par Catégorie'\n",
    "    )\n",
    "\n",
    "    fig.update_layout(barmode='group')\n",
    "    fig.update_xaxes(type='category', categoryorder='array', categoryarray=months)\n",
    "\n",
    "    fig.show()\n",
    "\n",
    "# Create interactive widgets for filtering\n",
    "category_selector = widgets.Dropdown(\n",
    "    options=['Toutes'] + categories,\n",
    "    value='Toutes',\n",
    "    description='Catégorie :',\n",
    "    style={'description_width': 'initial'}\n",
    ")\n",
    "\n",
    "month_selector = widgets.SelectMultiple(\n",
    "    options=months,\n",
    "    value=months,\n",
    "    description='Mois :',\n",
    "    style={'description_width': 'initial'}\n",
    ")\n",
    "\n",
    "min_sales = df['Ventes'].min()\n",
    "max_sales = df['Ventes'].max()\n",
    "sales_range_slider = widgets.IntRangeSlider(\n",
    "    value=[min_sales, max_sales],\n",
    "    min=min_sales,\n",
    "    max=max_sales,\n",
    "    step=10,\n",
    "    description='Plage de Ventes :',\n",
    "    layout={'width': '500px'},\n",
    "    style={'description_width': 'initial'}\n",
    ")\n",
    "\n",
    "# Display the interactive chart using the widgets\n",
    "interact(create_bar_chart,\n",
    "         selected_category=category_selector,\n",
    "         selected_months=month_selector,\n",
    "         sales_range_slider=sales_range_slider);\n"
   ]
  },
  {
   "cell_type": "markdown",
   "id": "52461695-abb9-4d2d-a93f-50663bdd5769",
   "metadata": {},
   "source": [
    "## <div align=\"center\" style=\"color: #007BFF;\">**Version 2**</div>"
   ]
  },
  {
   "cell_type": "code",
   "execution_count": 4,
   "id": "3f40d4cc-8629-45cf-a1fa-81b79d585fc6",
   "metadata": {},
   "outputs": [
    {
     "data": {
      "application/vnd.jupyter.widget-view+json": {
       "model_id": "031bceceaac745da86a54be21d9c6653",
       "version_major": 2,
       "version_minor": 0
      },
      "text/plain": [
       "interactive(children=(Dropdown(description='Catégorie:', layout=Layout(border_bottom='1px solid #007BFF', bord…"
      ]
     },
     "metadata": {},
     "output_type": "display_data"
    }
   ],
   "source": [
    "import pandas as pd\n",
    "import numpy as np\n",
    "import plotly.express as px\n",
    "import ipywidgets as widgets\n",
    "from IPython.display import display\n",
    "from ipywidgets import interact\n",
    "\n",
    "# Générer des données fictives\n",
    "np.random.seed(42)\n",
    "categories = ['Electroniques', 'Vêtements', 'Alimentation', 'Mobilier']\n",
    "months = ['Janvier', 'Février', 'Mars', 'Avril', 'Mai', 'Juin', 'Juillet', 'Août', 'Septembre', 'Octobre', 'Novembre', 'Décembre']\n",
    "data = {\n",
    "    'Mois': [month for month in months for _ in range(len(categories))],\n",
    "    'Catégorie': [cat for _ in range(len(months)) for cat in categories],\n",
    "    'Ventes': np.random.randint(100, 1000, size=len(categories) * len(months))\n",
    "}\n",
    "df = pd.DataFrame(data)\n",
    "\n",
    "def create_bar_chart(selected_category, selected_months, sales_range_slider):\n",
    "    min_sales, max_sales = sales_range_slider\n",
    "    # Filter the DataFrame df based on user selections\n",
    "    filtered_df = df\n",
    "\n",
    "    if selected_category != 'Toutes':\n",
    "        filtered_df = filtered_df[filtered_df['Catégorie'] == selected_category]\n",
    "\n",
    "    if selected_months:\n",
    "        filtered_df = filtered_df[filtered_df['Mois'].isin(selected_months)]\n",
    "\n",
    "    filtered_df = filtered_df[(filtered_df['Ventes'] >= min_sales) & (filtered_df['Ventes'] <= max_sales)]\n",
    "\n",
    "    # Create a bar chart using Plotly Express\n",
    "    fig = px.bar(\n",
    "        filtered_df,\n",
    "        x='Mois',\n",
    "        y='Ventes',\n",
    "        color='Catégorie',\n",
    "        title='Ventes Mensuelles par Catégorie'\n",
    "    )\n",
    "\n",
    "    fig.update_layout(barmode='group')\n",
    "    fig.update_xaxes(type='category', categoryorder='array', categoryarray=months)\n",
    "\n",
    "    fig.show()\n",
    "\n",
    "# Personnalisation de l'apparence des widgets avec les classes CSS\n",
    "category_selector = widgets.Dropdown(\n",
    "    options=['Toutes'] + categories,\n",
    "    value='Toutes',\n",
    "    description='Catégorie:',\n",
    "    layout={'border-radius': '160px','width': '300px', 'height': '30px', 'border': '1px solid #007BFF', 'font-size': '16px', 'color': 'white'},\n",
    "    style={'description_width': 'initial'}\n",
    ")\n",
    "\n",
    "month_selector = widgets.SelectMultiple(\n",
    "    options=months,\n",
    "    value=months,\n",
    "    description='Mois:',\n",
    "    layout={'width': '300px', 'height': '100px', 'border': '1px solid #007BFF', 'font-size': '16px', 'color': 'white'},\n",
    "    style={'description_width': 'initial'}\n",
    ")\n",
    "\n",
    "sales_range_slider = widgets.IntRangeSlider(\n",
    "    value=[min_sales, max_sales],\n",
    "    min=min_sales,\n",
    "    max=max_sales,\n",
    "    step=10,\n",
    "    description='Plage de Ventes:',\n",
    "    layout={'width': '500px', 'height': '30px', 'border': '1px solid #007BFF', 'font-size': '16px', 'color': 'white'},\n",
    "    style={'description_width': 'initial'}\n",
    ")\n",
    "\n",
    "# Display the interactive chart using the widgets\n",
    "interact(create_bar_chart,\n",
    "         selected_category=category_selector,\n",
    "         selected_months=month_selector,\n",
    "         sales_range_slider=sales_range_slider,\n",
    "         layout=widgets.Layout(margin='0 10px 0 10px'));\n"
   ]
  },
  {
   "cell_type": "code",
   "execution_count": null,
   "id": "25ccd193-b373-46a3-8885-ae54a089853a",
   "metadata": {},
   "outputs": [],
   "source": []
  }
 ],
 "metadata": {
  "kernelspec": {
   "display_name": "Python 3 (ipykernel)",
   "language": "python",
   "name": "python3"
  },
  "language_info": {
   "codemirror_mode": {
    "name": "ipython",
    "version": 3
   },
   "file_extension": ".py",
   "mimetype": "text/x-python",
   "name": "python",
   "nbconvert_exporter": "python",
   "pygments_lexer": "ipython3",
   "version": "3.11.5"
  }
 },
 "nbformat": 4,
 "nbformat_minor": 5
}
